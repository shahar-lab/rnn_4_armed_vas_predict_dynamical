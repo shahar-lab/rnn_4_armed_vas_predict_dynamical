{
 "cells": [
  {
   "cell_type": "code",
   "execution_count": 1,
   "id": "ef3ed444",
   "metadata": {},
   "outputs": [],
   "source": [
    "import numpy as np\n",
    "import pandas as pd \n",
    "\n",
    "from q_sim import *\n",
    "from q_sim_rw import *\n",
    "from utils import *"
   ]
  },
  {
   "cell_type": "code",
   "execution_count": 4,
   "id": "3ffc9910",
   "metadata": {},
   "outputs": [],
   "source": [
    "# config num of agent to simulate\n",
    "num_of_agents = 30\n",
    "# config num of trails for each agent\n",
    "num_of_trials = 2_00\n",
    "n_trials_per_block = 25\n",
    "\n",
    "all_data = [] \n",
    "\n",
    "# # stationarity\n",
    "# for agent in range(10):\n",
    "#         reward_probs = create_reward_probs(2,n_trials_per_block,num_of_trials,np.array([0.1,0.5,0.9]))\n",
    "#         param = configuration_parameters()\n",
    "\n",
    "#         df = q_sim(\n",
    "#                 agent,\n",
    "#                 param,\n",
    "#                 num_of_trials,\n",
    "#                 reward_probs,\n",
    "#                 probability_to_switch_parameters=0.000,\n",
    "#                 max_change=np.random.choice([2,3,4])\n",
    "#         )\n",
    "#         all_data.append(df)      \n",
    "\n",
    "# non-stationarity\n",
    "for agent in range(30):    \n",
    "        reward_probs = create_reward_probs(4,n_trials_per_block,num_of_trials,np.array([0.3,0.4,0.6,0.7]))\n",
    "        param = configuration_parameters()\n",
    "        df = q_sim(\n",
    "                agent,\n",
    "                param,\n",
    "                num_of_trials,\n",
    "                reward_probs,\n",
    "                probability_to_switch_parameters= 0.005, #0.005,\n",
    "                max_change= np.random.choice([2])#,3,4])\n",
    "        )\n",
    "        all_data.append(df)    \n",
    "        \n",
    "# # random walk \n",
    "# for agent in range(20,30):\n",
    "#         reward_probs = create_reward_probs(2,n_trials_per_block,num_of_trials,np.array([0.1,0.5,0.9]))\n",
    "#         param = configuration_parameters()\n",
    "#         df = q_sim_rw(\n",
    "#                 agent,\n",
    "#                 param,\n",
    "#                 num_of_trials,\n",
    "#                 reward_probs,\n",
    "#                 [0.1,0.05]\n",
    "#         )\n",
    "#         all_data.append(df)  \n",
    "        \n",
    "df_all_agent = pd.concat(all_data)    \n",
    "df_all_agent = df_all_agent.reset_index()\n",
    "df_all_agent = df_all_agent.drop(columns=['index'])  \n",
    "\n",
    "df_all_agent.to_csv(f'../data/{num_of_agents}_artificial_test_agents_non_stat.csv',index=False)"
   ]
  }
 ],
 "metadata": {
  "kernelspec": {
   "display_name": "Python 3 (ipykernel)",
   "language": "python",
   "name": "python3"
  },
  "language_info": {
   "codemirror_mode": {
    "name": "ipython",
    "version": 3
   },
   "file_extension": ".py",
   "mimetype": "text/x-python",
   "name": "python",
   "nbconvert_exporter": "python",
   "pygments_lexer": "ipython3",
   "version": "3.9.7"
  }
 },
 "nbformat": 4,
 "nbformat_minor": 5
}
